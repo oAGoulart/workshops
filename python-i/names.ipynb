{
 "cells": [
  {
   "cell_type": "markdown",
   "id": "3465a56d-1b8e-4931-9a2b-b4ba7e2a5945",
   "metadata": {
    "tags": []
   },
   "source": [
    "# Exercício II: Gerador de nomes\n",
    "\n",
    "Esta atividade tem por objetivo ajudar a prática da sintaxe do Python a partir da criação de um gerador de nomes.\n",
    "\n",
    "- [Repositório com códigos](https://github.com/oAGoulart/workshops)\n",
    "- [Documentação do Python](https://docs.python.org/3/)\n",
    "\n",
    "## Objetivos\n",
    "\n",
    "- [ ] Organizar o código para que possa gerar nomes femininos e masculinos\n",
    "- [ ] Permitir o usuário escolher qual opção\n",
    "- [ ] Utilizar o módulo 'random' para selecionar os nomes\n",
    "- [ ] Adicionar método para finalizar o programa"
   ]
  },
  {
   "cell_type": "markdown",
   "id": "679897b2-5ae6-4682-bcf1-1f875cd2d725",
   "metadata": {},
   "source": [
    "## Gerenciador de recursos\n",
    "\n",
    "Em Python, a palavra-chave `with` nos permite criar um contexto de execução para executar um grupo de instruções sob um gerenciador de recursos.\n",
    "\n",
    "Aqui estamos executando `open` e armazenando o resultado em `f`. Então, imprimimos os 10 primeiros caracteres do arquivo."
   ]
  },
  {
   "cell_type": "code",
   "execution_count": 1,
   "id": "be6aba17-6239-456c-9fc3-9cab10a4dacb",
   "metadata": {},
   "outputs": [
    {
     "name": "stdout",
     "output_type": "stream",
     "text": [
      "Smith\n",
      "John\n"
     ]
    }
   ],
   "source": [
    "with open('last_names.txt') as f:\n",
    "  print(f.read()[0:10])"
   ]
  },
  {
   "cell_type": "markdown",
   "id": "e1e5686d-99ca-4d65-9b51-335822a4167d",
   "metadata": {},
   "source": [
    "## Blocos de teste\n",
    "\n",
    "A palavra-chave `try` nos permite testar um bloco de código quanto a erros. Quando ocorre um erro, ou exceção, como chamamos, o Python normalmente para e gera uma mensagem de erro.\n",
    "Porém, se utilizamos `try` é possível gerenciar o quê será feito em caso de uma exceção.\n",
    "Aqui, as instruções dentro do bloco `try` serão executadas e se houver uma exceção, pulamos para o bloco `except`.\n",
    "Esse aceita especificar o tipo de exceção e se essa for do tipo esperado então o código dentro do bloco é executado."
   ]
  },
  {
   "cell_type": "code",
   "execution_count": null,
   "id": "a16f221e-7fab-4620-98ba-749e2785a56e",
   "metadata": {},
   "outputs": [],
   "source": [
    "try:\n",
    "  while True:\n",
    "    # Aqui estamos usando a função 'input' para ler da interface da linha de comando\n",
    "    escolha = input(\"Digite sua escolha: \")\n",
    "    if escolha == 'fim':\n",
    "      # Aqui estamos criando uma exceção no código\n",
    "      raise Exception('criamos uma excecao')\n",
    "    print(f'{escolha} escolhido!')\n",
    "\n",
    "except:\n",
    "  print('\\nFim do programa')"
   ]
  },
  {
   "cell_type": "markdown",
   "id": "d61a19a1-4247-402d-a039-712ee0954afe",
   "metadata": {},
   "source": [
    "## O fluxo principal\n",
    "\n",
    "Agora, vamos ver como podemos estruturar o fluxo do nosso programa para criar um gerador de nomes."
   ]
  },
  {
   "cell_type": "code",
   "execution_count": null,
   "id": "eecaff37-216a-424d-86b9-22f09e559b03",
   "metadata": {},
   "outputs": [],
   "source": [
    "import logging\n",
    "import random\n",
    "\n",
    "def get_names(file):\n",
    "  with open(file) as f:\n",
    "    names = []\n",
    "    \n",
    "    # Podemos utilizar o laço 'for' para iterar cada linha do arquivo 'f'\n",
    "    for line in f:\n",
    "      # A variável 'names' é uma lista, essas contém o método 'append', usado para acrescentar itens nela\n",
    "      # A variável 'line' é uma string, aqui estamos usando o método 'strip' para remover espaços extras\n",
    "      names.append(line.strip())\n",
    "    return names\n",
    "\n",
    "def main():\n",
    "  logging.basicConfig(level=logging.DEBUG)\n",
    "\n",
    "  # Aqui devemos utilizar a função definida acima para carregar os nomes a serem utilizados\n",
    "  male_names = get_names(\"male_first_names.txt\")\n",
    "  female_names = get_names(\"female_first_names.txt\")\n",
    "  last_names = get_names(\"last_names.txt\")\n",
    "\n",
    "  try:\n",
    "    while True:\n",
    "      gender = input(\"Masculino ou feminino: \")\n",
    "\n",
    "      # Aqui estamos gerando um name aleatório e imprimindo no terminal\n",
    "      # O módulo 'random' possui uma função que permite selecionar um item aleatório de uma lista\n",
    "      print(random.choice(male_names))\n",
    "\n",
    "  except:\n",
    "    logging.info('\\nFim do programa')\n",
    "\n",
    "if __name__ == '__main__':\n",
    "  main()"
   ]
  }
 ],
 "metadata": {
  "kernelspec": {
   "display_name": "Python 3 (ipykernel)",
   "language": "python",
   "name": "python3"
  },
  "language_info": {
   "codemirror_mode": {
    "name": "ipython",
    "version": 3
   },
   "file_extension": ".py",
   "mimetype": "text/x-python",
   "name": "python",
   "nbconvert_exporter": "python",
   "pygments_lexer": "ipython3",
   "version": "3.10.0"
  }
 },
 "nbformat": 4,
 "nbformat_minor": 5
}
