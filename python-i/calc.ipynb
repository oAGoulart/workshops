{
 "cells": [
  {
   "cell_type": "markdown",
   "id": "c9eac2b1-1c6a-4e18-93ed-dfbe512c18df",
   "metadata": {
    "tags": []
   },
   "source": [
    "# Exercício I: Calculadora simples\n",
    "\n",
    "Esta atividade tem por objetivo ajudar a prática da sintaxe do Python a partir da criação de uma calculadora.\n",
    "\n",
    "- [Repositório com códigos](https://github.com/oAGoulart/workshops)\n",
    "- [Documentação do Python](https://docs.python.org/3/)\n",
    "\n",
    "## Objetivos\n",
    "\n",
    "- [x] Organizar o código para que utilize uma função para cada operação\n",
    "- [ ] Utilizar o módulo `logging` para gerar logs\n",
    "\n",
    "## Observações\n",
    "\n",
    "1. Em Python, a indentação é obrigatória e é utilizada para definir blocos de código\n",
    "2. Em Python, não há chaves `{` e `}` para definir blocos de código\n",
    "3. Em Python, não há ponto e vírgula `;` para finalizar instruções"
   ]
  },
  {
   "cell_type": "markdown",
   "id": "7c6c826d-ab44-4434-961d-9256a8fd0f1c",
   "metadata": {},
   "source": [
    "## Importação de módulos\n",
    "\n",
    "A palavra-chave `import` é utilizada para importar módulos."
   ]
  },
  {
   "cell_type": "code",
   "execution_count": 1,
   "id": "2935e3ca-0087-432a-8952-fb318f61f23c",
   "metadata": {},
   "outputs": [
    {
     "name": "stdout",
     "output_type": "stream",
     "text": [
      "olaaaa\n"
     ]
    }
   ],
   "source": [
    "import argparse\n",
    "import logging\n",
    "\n",
    "print('olaaaa')"
   ]
  },
  {
   "cell_type": "markdown",
   "id": "42dba280-461b-426d-aeba-f14db956191d",
   "metadata": {},
   "source": [
    "## Definição de funções\n",
    "\n",
    "A palavra-chave `def` é utilizada para definir funções"
   ]
  },
  {
   "cell_type": "code",
   "execution_count": 5,
   "id": "3122a609-2199-4023-b98c-13ffbd802cd6",
   "metadata": {},
   "outputs": [
    {
     "data": {
      "text/plain": [
       "40.0"
      ]
     },
     "execution_count": 5,
     "metadata": {},
     "output_type": "execute_result"
    }
   ],
   "source": [
    "def soma(a, b):\n",
    "  # Aqui, 'a' e 'b' podem ser números inteiros 'int' ou números de ponto flutuante 'float'\n",
    "  # Bem como, podem ser strings 'str' ou qualquer outro tipo de dado\n",
    "  c = a * b + 30\n",
    "  return c\n",
    "\n",
    "# Agora chame a função definida em cima\n",
    "soma(5.0, 2.0)"
   ]
  },
  {
   "cell_type": "markdown",
   "id": "5b761792-94b4-488b-91cc-5f0cee084aa4",
   "metadata": {},
   "source": [
    "## Cadê a 'main'?\n",
    "\n",
    "Em Python não há função `main` padrão, o código que está fora de funções é executado quando o arquivo é executado.\n",
    "Por exemplo, ao executar o arquivo `calc.py` no terminal, o código abaixo seria executado:\n",
    "\n",
    "```python\n",
    "print(soma(1, 2)) # o resultado seria 3\n",
    "```\n",
    "\n",
    "Para definir o que deve ser executado quando o arquivo é chamado, é necessário utilizar a sintaxe abaixo."
   ]
  },
  {
   "cell_type": "code",
   "execution_count": 8,
   "id": "306d228f-713e-4625-8fa0-1be52c9c0c73",
   "metadata": {},
   "outputs": [
    {
     "name": "stdout",
     "output_type": "stream",
     "text": [
      "sososososo\n",
      "dentro da main\n"
     ]
    }
   ],
   "source": [
    "def uma_funcao():\n",
    "  pass # Palavra-chave utilizada em Python quando um bloco de código esta vazio\n",
    "\n",
    "def app():\n",
    "  print('dentro da main')\n",
    "  uma_funcao()\n",
    "    \n",
    "print('sososososo')\n",
    "\n",
    "if __name__ == '__main__':\n",
    "  # Todo o código dentro do bloco 'if' será executado quando o arquivo for chamado\n",
    "  app()"
   ]
  },
  {
   "cell_type": "markdown",
   "id": "90feacc1-2579-4b94-aa5b-f4eb0569f506",
   "metadata": {},
   "source": [
    "## O fluxo principal\n",
    "\n",
    "Agora, vamos ver como podemos estruturar o fluxo do nosso programa para criar uma calculadora."
   ]
  },
  {
   "cell_type": "code",
   "execution_count": 9,
   "id": "2ffed157-8a9d-42bc-88eb-2b2ea3bdae9f",
   "metadata": {},
   "outputs": [
    {
     "name": "stdin",
     "output_type": "stream",
     "text": [
      "operacao  -\n"
     ]
    },
    {
     "name": "stderr",
     "output_type": "stream",
     "text": [
      "INFO:root:Valor de a: 10\n",
      "INFO:root:Resultado: 15\n"
     ]
    },
    {
     "name": "stdout",
     "output_type": "stream",
     "text": [
      "-\n"
     ]
    }
   ],
   "source": [
    "import logging\n",
    "\n",
    "# Python também aceita definir valores padrões para variáveis e retorno da função\n",
    "def soma(a: int, b: int) -> int:\n",
    "  return a + b\n",
    "\n",
    "def main():\n",
    "  # Aqui estamos definindo o nível de log (DEBUG, INFO, WARNING, ERROR, CRITICAL)\n",
    "  logging.basicConfig(level=logging.DEBUG)\n",
    "\n",
    "  # Em Python, variáveis podem ser declaradas sem tipo, algo similar ao 'var' do JavaScript\n",
    "  # ou o 'auto' do C++11\n",
    "  op = input('operacao ')\n",
    "  print(op)\n",
    "  valor_a = 10\n",
    "  valor_b = 5\n",
    "\n",
    "  logging.info('Valor de a: %s', valor_a)\n",
    "  operation = '+' # Operação padrão\n",
    "\n",
    "  # Em Python não há switch/case, mas podemos utilizar o 'if' para verificar valores\n",
    "  result = None # O valor 'None' é utilizado para representar um valor nulo\n",
    "  if operation == '+':\n",
    "    # Aqui é chamada a função 'soma' definida acima\n",
    "    # O valor retornado pela função é armazenado na variável 'result'\n",
    "    result = soma(valor_a, valor_b)\n",
    "  elif operation == '-':\n",
    "    result = valor_a - valor_b\n",
    "  elif operation == '*':\n",
    "    result = valor_a * valor_b\n",
    "  elif operation == '/':\n",
    "    result = valor_a / valor_b\n",
    "  else:\n",
    "    logging.error('Operação inválida: %s', operation)\n",
    "    return\n",
    "  \n",
    "  # Aqui é exibido o resultado\n",
    "  logging.info('Resultado: %s', result)\n",
    "\n",
    "if __name__ == '__main__':\n",
    "  main()"
   ]
  }
 ],
 "metadata": {
  "kernelspec": {
   "display_name": "Python 3 (ipykernel)",
   "language": "python",
   "name": "python3"
  },
  "language_info": {
   "codemirror_mode": {
    "name": "ipython",
    "version": 3
   },
   "file_extension": ".py",
   "mimetype": "text/x-python",
   "name": "python",
   "nbconvert_exporter": "python",
   "pygments_lexer": "ipython3",
   "version": "3.10.0"
  }
 },
 "nbformat": 4,
 "nbformat_minor": 5
}
