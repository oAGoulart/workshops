{
 "cells": [
  {
   "cell_type": "markdown",
   "id": "24547e9e-17a7-4fce-84b0-ee0e70691036",
   "metadata": {},
   "source": [
    "# Exercício: Criando um *web scraper*\n",
    "\n",
    "Esta atividade tem por objetivo ajudar a prática da sintaxe do Python a partir da criação de um *web scraper*.\n",
    "\n",
    "- [Repositório com códigos](https://github.com/oAGoulart/workshops)\n",
    "- [Documentação do Python](https://docs.python.org/3/)\n",
    "\n",
    "## Objetivos\n",
    "\n",
    "- [ ] Utilizar o módulo 'requests' para solicitar páginas *web*\n",
    "- [ ] Utilizar o módulo 'beautifulsoup' para iterar sobre o conteúdo da página"
   ]
  },
  {
   "cell_type": "markdown",
   "id": "8144f829-bf78-4dfd-8fc6-b8cccc4392bf",
   "metadata": {},
   "source": [
    "## Módulo 'requests'\n",
    "\n",
    "O módulo `requests` é utilizado para fazer solicitações para uma URL específica (*e.g.* HTTP, FTP). Esse módulo também fornece funcionalidades para gerenciar a \"resposta\" da solicitação."
   ]
  },
  {
   "cell_type": "markdown",
   "id": "d28c74b7-567c-463a-9e7e-bf879ca0da74",
   "metadata": {},
   "source": [
    "### Fazendo uma solicitação\n",
    "\n",
    "O módulo 'requests' possui vários métodos para fazer solicitações solicitações GET, POST, PUT, PATCH ou HEAD. Esse módulo é usado para recuperar informações de um determinado servidor usando um determinado URL. O método GET envia as informações codificadas do usuário anexadas à solicitação de página.\n",
    "\n",
    "Aqui estaremos usando a requisição GET."
   ]
  },
  {
   "cell_type": "code",
   "execution_count": 7,
   "id": "036f44be-5239-4f57-8f75-0903ed2d9b90",
   "metadata": {},
   "outputs": [
    {
     "name": "stdout",
     "output_type": "stream",
     "text": [
      "Status:  <Response [200]>\n",
      "Content:  b'\\t\\t\\n\\t\\t\\t<aside id=\"unipampa_wp_cookies_cookie_info_bar\" class=\"unipampa-wp-cookies-align-center unipam'\n"
     ]
    }
   ],
   "source": [
    "import requests\n",
    " \n",
    "# Fazendo uma solicitação GET\n",
    "# O método 'get' retorna um objeto contendo vários valores sobre a solicitação\n",
    "r = requests.get('https://sites.unipampa.edu.br/eventos/')\n",
    " \n",
    "# Podemos verificar o \"status code\" imprimindo o objeto retornado\n",
    "print('Status: ', r)\n",
    " \n",
    "# Ou, podemos imprimir os valores contidos no objeto\n",
    "# Aqui imprimimos o conteúdo retornado pela solicitação\n",
    "# Nesse caso será uma string com o texto HTML da página\n",
    "# Obs.: remova o \"[:100]\" para ver o conteúdo completo\n",
    "print('Content: ', r.content[:100])"
   ]
  },
  {
   "cell_type": "markdown",
   "id": "33a9a18e-4125-4480-959f-31233ccf30b4",
   "metadata": {},
   "source": [
    "### Objeto de resposta\n",
    "\n",
    "Quando fazemos uma solicitação a um URL, um objeto de resposta é retornado.\n",
    "Em Python, esse objeto é retornado por `requests.method()`, onde o `method` pode ser:\n",
    "- `get`\n",
    "- `post`\n",
    "- `put`\n",
    "- entre outros.\n",
    "\n",
    "Esse objeto contém muitas funções e atributos que definem todos os valores que precisamos em nosso código. Por exemplo, se assumirmos que `r` é um objeto de resposta, então podemos usar `r.status_code` para verificar o \"status code\" dos próprios cabeçalhos de resposta."
   ]
  },
  {
   "cell_type": "code",
   "execution_count": 8,
   "id": "c6a65ee4-e9b8-4fea-8220-301b278bdadf",
   "metadata": {},
   "outputs": [
    {
     "name": "stdout",
     "output_type": "stream",
     "text": [
      "URL:  https://sites.unipampa.edu.br/eventos/\n",
      "200\n"
     ]
    }
   ],
   "source": [
    "import requests\n",
    "\n",
    "r = requests.get('https://sites.unipampa.edu.br/eventos/')\n",
    " \n",
    "# O atributo 'url' pode ser usado para ler o URL utilizado na solicitação\n",
    "print('URL: ', r.url)\n",
    "   \n",
    "# Bem como, 'status_code' pode ser usado para verificar se a solicitação foi bem-sucedida (200)\n",
    "print('Status: ', r.status_code)"
   ]
  },
  {
   "cell_type": "markdown",
   "id": "31c637e2-05b3-4013-b0d5-0df5d3570823",
   "metadata": {},
   "source": [
    "## Módulo 'beautifulsoup'\n",
    "\n",
    "A biblioteca, ou módulo, BeautifulSoup é usada para extrair informações de arquivos HTML ou XML.\n",
    "Com isso é possível utilizar uma árvore de análise para navegar, pesquisar ou modificar o conteúdo da resposta.\n",
    "\n",
    "Caso seja necessário instalar essa biblioteca, utilize o comando abaixo:\n",
    "\n",
    "```bash\n",
    "pip install beautifulsoup4\n",
    "```"
   ]
  },
  {
   "cell_type": "markdown",
   "id": "01208c6a-be36-4708-8bf6-4d0cfaa7b423",
   "metadata": {},
   "source": [
    "### Fazendo *parse* no conteúdo HTML\n",
    "\n",
    "Depois de obter o HTML da página, precisamos fazer *parse* desse código para algumas informações úteis.\n",
    "Em primeiro lugar, vamos criar um objeto BeautifulSoup especificando o analisador que queremos usar."
   ]
  },
  {
   "cell_type": "code",
   "execution_count": 9,
   "id": "35356e1f-0b8a-4f27-aced-04b912ebaffb",
   "metadata": {},
   "outputs": [
    {
     "name": "stdout",
     "output_type": "stream",
     "text": [
      "<title>Portal de Eventos - Unipampa</title>\n",
      "title\n",
      "meta\n"
     ]
    }
   ],
   "source": [
    "import requests\n",
    "from bs4 import BeautifulSoup\n",
    "\n",
    "r = requests.get('https://sites.unipampa.edu.br/eventos/')\n",
    "\n",
    "# Aqui estamos iniciando o 'parser' do conteúdo armazenado em 'r.content'\n",
    "# O segundo atributo, 'html.parser', é o analisador que queremos usar\n",
    "c = BeautifulSoup(r.content, 'html.parser')\n",
    "\n",
    "# Agora  o objeto 'c' contém todos os elementos da página em uma árvore hierarquica\n",
    "# Sendo assim, podemos interagir com cada elemento, por exemplo:\n",
    "\n",
    "# Obtendo a tag HTML 'title'\n",
    "print(c.title)\n",
    "\n",
    "# Obtendo o nome da tag HTML 'title'\n",
    "print(c.title.name)\n",
    "\n",
    "# Obtendo o nome da tag HTML parente de 'title'\n",
    "print(c.title.parent.name)"
   ]
  },
  {
   "cell_type": "markdown",
   "id": "6fb47f54-80fb-4433-8443-8782d2ff12d4",
   "metadata": {},
   "source": [
    "### Encontrando elementos\n",
    "\n",
    "Se observarmos o código da [página de eventos](https://sites.unipampa.edu.br/eventos/) é possível verificar que temos uma lista de itens que podemos tentar extrair."
   ]
  },
  {
   "cell_type": "code",
   "execution_count": 12,
   "id": "747dbecc-efb0-46cf-b089-93cc1b1567a7",
   "metadata": {},
   "outputs": [
    {
     "name": "stdout",
     "output_type": "stream",
     "text": [
      "<h2 class=\"entry-title\"><a href=\"https://sites.unipampa.edu.br/eventos/eventos/curso-de-extensao-aprendizagens-interculturais-producao-de-sentidos-na-educacao-v-edicao/\" rel=\"bookmark\">Curso de extensão “Aprendizagens interculturais: produção de sentidos na educação- V Edição”</a></h2>\n",
      "<h2 class=\"entry-title\"><a href=\"https://sites.unipampa.edu.br/eventos/eventos/ofit-2022/\" rel=\"bookmark\">OFIT 2022</a></h2>\n",
      "<h2 class=\"entry-title\"><a href=\"https://sites.unipampa.edu.br/eventos/eventos/ciclo-de-palestras-acorianidade-no-sul-do-rs/\" rel=\"bookmark\">Ciclo de Palestras – Açorianidade no Sul do RS</a></h2>\n",
      "<h2 class=\"entry-title\"><a href=\"https://sites.unipampa.edu.br/eventos/eventos/colacao-de-grau-virtual-geografia-uab/\" rel=\"bookmark\">Colação de Grau Virtual – Geografia UAB</a></h2>\n",
      "<h2 class=\"entry-title\"><a href=\"https://sites.unipampa.edu.br/eventos/eventos/colacao-de-grau-virtual-geografia-uab-2/\" rel=\"bookmark\">Colação de Grau Virtual – Geografia UAB</a></h2>\n",
      "<h2 class=\"entry-title\"><a href=\"https://sites.unipampa.edu.br/eventos/eventos/exposicao-de-imagens-e-textos-historia-da-colonizacao-e-resistencia-palestina-atraves-do-cinema/\" rel=\"bookmark\">Exposição de imagens e textos – História da colonização e resistência palestina através do cinema</a></h2>\n",
      "<h2 class=\"entry-title\"><a href=\"https://sites.unipampa.edu.br/eventos/eventos/tira-teima-internacional-mine-action-fellows-program-experiencia-internacional-em-desarmamento-humanitario/\" rel=\"bookmark\">Tira-teima Internacional: Mine Action Fellows Program: Experiência internacional em Desarmamento Humanitário</a></h2>\n",
      "<h2 class=\"entry-title\"><a href=\"https://sites.unipampa.edu.br/eventos/eventos/1o-ciclo-de-formacao-sobre-etica-e-integridade-publica-palestra-metodos-alternativos-de-resolucao-de-conflitos-para-prevenir-desvios-eticos-e-de-condutas/\" rel=\"bookmark\">1º Ciclo de Formação sobre Ética e Integridade Pública – Palestra “Métodos alternativos de resolução de conflitos para prevenir desvios éticos e de condutas”</a></h2>\n",
      "<h2 class=\"entry-title\"><a href=\"https://sites.unipampa.edu.br/eventos/eventos/14o-salao-internacional-de-ensino-pesquisa-e-extensao-siepe/\" rel=\"bookmark\">14º Salão Internacional de Ensino, Pesquisa e Extensão – SIEPE</a></h2>\n",
      "<h2 class=\"entry-title\"><a href=\"https://sites.unipampa.edu.br/eventos/eventos/vi-simposio-integrados-dos-ppgs-uruguaiana-e-v-simposio-gaucho-de-inovacao-em-saude/\" rel=\"bookmark\">VI Simpósio Integrados dos PPGs/Uruguaiana e V Simpósio Gaúcho de Inovação em Saúde</a></h2>\n"
     ]
    }
   ],
   "source": [
    "import requests\n",
    "from bs4 import BeautifulSoup\n",
    "\n",
    "r = requests.get('https://sites.unipampa.edu.br/eventos/')\n",
    "c = BeautifulSoup(r.content, 'html.parser')\n",
    "\n",
    "# Aqui estamos procurando pelos elementos 'article' que possuem a classe 'eventos'\n",
    "# O método 'find_all' retorna uma lista com todos os elementos encontrados\n",
    "s = c.find_all('article', class_='eventos')\n",
    "\n",
    "# Podemos continuar procurando por elementos se iterarmos sobre essa lista\n",
    "for e in s:\n",
    "  # Nesse caso iremos utilizar a função 'find' que retorna o primeiro elemento encontrado\n",
    "  # Queremos procurar o primeiro elemento 'h2'\n",
    "  content = e.find('h2')\n",
    "  print(content)"
   ]
  },
  {
   "cell_type": "markdown",
   "id": "64b9e487-e6c3-4b9b-8ce8-aed763ca2a6a",
   "metadata": {},
   "source": [
    "### Extraindo texto e links\n",
    "\n",
    "Nos exemplos acima é possível ver que ao buscar os dados, as tags também são mostradas, mas e se quisermos apenas o texto sem nenhuma tag?\n",
    "Para isso usaremos a propriedade `text`.\n",
    "Essa permite imprimir apenas o texto da tag.\n",
    "Algo similar pode ser usado para extrair atributos das tags.\n",
    "O método `get()` permite ler um atributo de um elemento."
   ]
  },
  {
   "cell_type": "code",
   "execution_count": 13,
   "id": "b5e0aa99-ee67-4c76-a948-f563c3982adc",
   "metadata": {},
   "outputs": [
    {
     "name": "stdout",
     "output_type": "stream",
     "text": [
      "Texto:  Curso de extensão “Aprendizagens interculturais: produção de sentidos na educação- V Edição”\n",
      "URL:  https://sites.unipampa.edu.br/eventos/eventos/curso-de-extensao-aprendizagens-interculturais-producao-de-sentidos-na-educacao-v-edicao/\n",
      "Texto:  OFIT 2022\n",
      "URL:  https://sites.unipampa.edu.br/eventos/eventos/ofit-2022/\n",
      "Texto:  Ciclo de Palestras – Açorianidade no Sul do RS\n",
      "URL:  https://sites.unipampa.edu.br/eventos/eventos/ciclo-de-palestras-acorianidade-no-sul-do-rs/\n",
      "Texto:  Colação de Grau Virtual – Geografia UAB\n",
      "URL:  https://sites.unipampa.edu.br/eventos/eventos/colacao-de-grau-virtual-geografia-uab/\n",
      "Texto:  Colação de Grau Virtual – Geografia UAB\n",
      "URL:  https://sites.unipampa.edu.br/eventos/eventos/colacao-de-grau-virtual-geografia-uab-2/\n",
      "Texto:  Exposição de imagens e textos – História da colonização e resistência palestina através do cinema\n",
      "URL:  https://sites.unipampa.edu.br/eventos/eventos/exposicao-de-imagens-e-textos-historia-da-colonizacao-e-resistencia-palestina-atraves-do-cinema/\n",
      "Texto:  Tira-teima Internacional: Mine Action Fellows Program: Experiência internacional em Desarmamento Humanitário\n",
      "URL:  https://sites.unipampa.edu.br/eventos/eventos/tira-teima-internacional-mine-action-fellows-program-experiencia-internacional-em-desarmamento-humanitario/\n",
      "Texto:  1º Ciclo de Formação sobre Ética e Integridade Pública – Palestra “Métodos alternativos de resolução de conflitos para prevenir desvios éticos e de condutas”\n",
      "URL:  https://sites.unipampa.edu.br/eventos/eventos/1o-ciclo-de-formacao-sobre-etica-e-integridade-publica-palestra-metodos-alternativos-de-resolucao-de-conflitos-para-prevenir-desvios-eticos-e-de-condutas/\n",
      "Texto:  14º Salão Internacional de Ensino, Pesquisa e Extensão – SIEPE\n",
      "URL:  https://sites.unipampa.edu.br/eventos/eventos/14o-salao-internacional-de-ensino-pesquisa-e-extensao-siepe/\n",
      "Texto:  VI Simpósio Integrados dos PPGs/Uruguaiana e V Simpósio Gaúcho de Inovação em Saúde\n",
      "URL:  https://sites.unipampa.edu.br/eventos/eventos/vi-simposio-integrados-dos-ppgs-uruguaiana-e-v-simposio-gaucho-de-inovacao-em-saude/\n"
     ]
    }
   ],
   "source": [
    "import requests\n",
    "from bs4 import BeautifulSoup\n",
    "\n",
    "r = requests.get('https://sites.unipampa.edu.br/eventos/')\n",
    "c = BeautifulSoup(r.content, 'html.parser')\n",
    "\n",
    "s = c.find_all('article', class_='eventos')\n",
    "for e in s:\n",
    "  content = e.find('h2')\n",
    "  link = content.find('a')\n",
    "  \n",
    "  # Aqui estamos imprimindo o atributo 'text' do elemento 'a'\n",
    "  print('Texto: ', link.text)\n",
    "  # Aqui o método 'get' é usado para extrair o atributo 'href' do elemento 'a'\n",
    "  print('URL: ', link.get('href'))"
   ]
  },
  {
   "cell_type": "markdown",
   "id": "bda844db-54bc-47c5-ba2e-a7d35ae2a6c6",
   "metadata": {},
   "source": [
    "## Mini-atividade:\n",
    "\n",
    "Utilize os conhecimentos obtidos até agora para adaptar o código abaixo para extrair o título dos itens na página de eventos da Unipampa e escrever esses em um arquivo CSV."
   ]
  },
  {
   "cell_type": "code",
   "execution_count": 14,
   "id": "baf21574-324e-4e8f-a5c6-a111f8dc1532",
   "metadata": {},
   "outputs": [],
   "source": [
    "import requests\n",
    "import csv\n",
    "# Dica: importe o módulo aqui\n",
    "\n",
    "def main():\n",
    "  titles = []\n",
    "\n",
    "  s = [] # Dica: use o código das seções anteriores para extrair os elementos\n",
    "\n",
    "  count = 1\n",
    "  for e in s:\n",
    "    d = {}\n",
    "    d['Title Number'] = f'Title {count}'\n",
    "    d['Title Name'] = 'text' # Dica: use o atributo 'text' para obter o título\n",
    "    count += 1\n",
    "    titles.append(d)\n",
    "\n",
    "  with open('titles.csv', 'w', newline='') as f:\n",
    "    # Aqui estamos usando o módulo 'csv' para facilitar essa etapa\n",
    "    # O método 'DictWriter' permite criar um gerenciador para escrever um arquivo CSV\n",
    "    w = csv.DictWriter(f,['Title Number','Title Name'])\n",
    "    # O objeto 'w' contém vários métodos para criar a estrutura do arquivo\n",
    "    # Aqui estamos chamando 'writeheader' para escrever o cabeçario do CSV\n",
    "    w.writeheader()\n",
    "\n",
    "    # O método 'writerows' aceita uma lista com todos os dados que queremos escrever\n",
    "    w.writerows(titles)\n",
    "\n",
    "if __name__ == '__main__':\n",
    "  main()"
   ]
  }
 ],
 "metadata": {
  "kernelspec": {
   "display_name": "Python 3 (ipykernel)",
   "language": "python",
   "name": "python3"
  },
  "language_info": {
   "codemirror_mode": {
    "name": "ipython",
    "version": 3
   },
   "file_extension": ".py",
   "mimetype": "text/x-python",
   "name": "python",
   "nbconvert_exporter": "python",
   "pygments_lexer": "ipython3",
   "version": "3.10.0"
  }
 },
 "nbformat": 4,
 "nbformat_minor": 5
}
